{
 "cells": [
  {
   "cell_type": "markdown",
   "id": "2dddb3cc",
   "metadata": {},
   "source": [
    "## GUI 1"
   ]
  },
  {
   "cell_type": "code",
   "execution_count": 23,
   "id": "bfa1f200",
   "metadata": {},
   "outputs": [
    {
     "ename": "SyntaxError",
     "evalue": "positional argument follows keyword argument (Temp/ipykernel_4332/2993306380.py, line 32)",
     "output_type": "error",
     "traceback": [
      "\u001b[1;36m  File \u001b[1;32m\"C:\\Users\\laure\\AppData\\Local\\Temp/ipykernel_4332/2993306380.py\"\u001b[1;36m, line \u001b[1;32m32\u001b[0m\n\u001b[1;33m    label = Label(root, text=quotes, variable, value)\u001b[0m\n\u001b[1;37m                                                    ^\u001b[0m\n\u001b[1;31mSyntaxError\u001b[0m\u001b[1;31m:\u001b[0m positional argument follows keyword argument\n"
     ]
    }
   ],
   "source": [
    "from tkinter import*\n",
    "\n",
    "root = Tk()\n",
    "root.title(\"Quotes by Person\")\n",
    "root.geometry\n",
    "\n",
    "person = [\"Albert Einstein\", \"The Buddha\"]\n",
    "quotes = [\"Before God we are all equally wise - and equally foolish.\",\"One should train in deeds of merit—generosity, a balanced life, developing a loving mind—that yield long-lasting happiness.\"]\n",
    "\n",
    "def chosen_option():\n",
    "    color = value.get()\n",
    "    result_label = Label(root, text=f\"You've chosen {color}\")\n",
    "    root.configure(background=color)\n",
    "    result_label.pack()\n",
    "    \n",
    "def get_person():\n",
    "    text_box.delete(0.0, END)\n",
    "    r = requests.get(\"https://api.quotable.io/random\")\n",
    "    data = r.json()\n",
    "    quote = data[\"author\"]\n",
    "    dropdown.insert(END, quote)\n",
    "\n",
    "intro_label = Label(root, text=\"Here is an inspirational quote for you.\")\n",
    "\n",
    "value = StringVar()\n",
    "value.set(\"Select a person\")\n",
    "\n",
    "def clicked(value): \n",
    "    mylabel = Label(root, text=value)\n",
    "    mylabel.pack()\n",
    "    \n",
    "label = Label(root, text=quotes, variable, value)\n",
    "\n",
    "dropdown = OptionMenu(root, value, *person)\n",
    "choose_button = Button(root, text=\"Click to choose\", command=selection)\n",
    "    \n",
    "dropdown.pack()\n",
    "choose_button.pack()\n",
    "\n",
    "root.mainloop()"
   ]
  },
  {
   "cell_type": "markdown",
   "id": "2843f017",
   "metadata": {},
   "source": [
    "## GUI 2"
   ]
  },
  {
   "cell_type": "code",
   "execution_count": 8,
   "id": "657dfeda",
   "metadata": {},
   "outputs": [
    {
     "ename": "NameError",
     "evalue": "name 'weather' is not defined",
     "output_type": "error",
     "traceback": [
      "\u001b[1;31m---------------------------------------------------------------------------\u001b[0m",
      "\u001b[1;31mNameError\u001b[0m                                 Traceback (most recent call last)",
      "\u001b[1;32m~\\AppData\\Local\\Temp/ipykernel_2012/3930103945.py\u001b[0m in \u001b[0;36m<module>\u001b[1;34m\u001b[0m\n\u001b[0;32m     45\u001b[0m \u001b[0mlabel\u001b[0m \u001b[1;33m=\u001b[0m \u001b[0mtk\u001b[0m\u001b[1;33m.\u001b[0m\u001b[0mLabel\u001b[0m\u001b[1;33m(\u001b[0m\u001b[0mlower_frame\u001b[0m\u001b[1;33m,\u001b[0m \u001b[0mfont\u001b[0m \u001b[1;33m=\u001b[0m \u001b[1;33m(\u001b[0m\u001b[1;34m'courier new'\u001b[0m\u001b[1;33m,\u001b[0m\u001b[1;36m10\u001b[0m\u001b[1;33m)\u001b[0m\u001b[1;33m,\u001b[0m \u001b[0mbg\u001b[0m \u001b[1;33m=\u001b[0m \u001b[1;34m'#fce300'\u001b[0m\u001b[1;33m,\u001b[0m \u001b[0manchor\u001b[0m \u001b[1;33m=\u001b[0m \u001b[1;34m'nw'\u001b[0m\u001b[1;33m,\u001b[0m \u001b[0mjustify\u001b[0m \u001b[1;33m=\u001b[0m \u001b[1;34m'left'\u001b[0m\u001b[1;33m)\u001b[0m\u001b[1;33m\u001b[0m\u001b[1;33m\u001b[0m\u001b[0m\n\u001b[0;32m     46\u001b[0m \u001b[0mlabel\u001b[0m\u001b[1;33m.\u001b[0m\u001b[0mplace\u001b[0m\u001b[1;33m(\u001b[0m\u001b[0mrelwidth\u001b[0m \u001b[1;33m=\u001b[0m \u001b[1;36m1\u001b[0m\u001b[1;33m,\u001b[0m \u001b[0mrelheight\u001b[0m \u001b[1;33m=\u001b[0m \u001b[1;36m1\u001b[0m\u001b[1;33m)\u001b[0m\u001b[1;33m\u001b[0m\u001b[1;33m\u001b[0m\u001b[0m\n\u001b[1;32m---> 47\u001b[1;33m \u001b[0mlabel\u001b[0m\u001b[1;33m[\u001b[0m\u001b[1;34m'text'\u001b[0m\u001b[1;33m]\u001b[0m \u001b[1;33m=\u001b[0m \u001b[1;34m'\\n'\u001b[0m\u001b[1;33m.\u001b[0m\u001b[0mjoin\u001b[0m\u001b[1;33m(\u001b[0m\u001b[0mformat_response\u001b[0m\u001b[1;33m(\u001b[0m\u001b[0mweather\u001b[0m\u001b[1;33m)\u001b[0m\u001b[1;33m)\u001b[0m\u001b[1;33m\u001b[0m\u001b[1;33m\u001b[0m\u001b[0m\n\u001b[0m\u001b[0;32m     48\u001b[0m \u001b[1;33m\u001b[0m\u001b[0m\n\u001b[0;32m     49\u001b[0m \u001b[0mroot\u001b[0m\u001b[1;33m.\u001b[0m\u001b[0mmainloop\u001b[0m\u001b[1;33m(\u001b[0m\u001b[1;33m)\u001b[0m\u001b[1;33m\u001b[0m\u001b[1;33m\u001b[0m\u001b[0m\n",
      "\u001b[1;31mNameError\u001b[0m: name 'weather' is not defined"
     ]
    }
   ],
   "source": [
    "# I greatly struggled with this problem, here is what I came up with coupled with help from stackoverflow\n",
    "import tkinter as tk\n",
    "from tkinter import font\n",
    "import requests\n",
    "from datetime import datetime\n",
    "\n",
    "def format_response(weather):\n",
    "    for i in range(7):\n",
    "        dt_txt = weather['list'][i]['dt']\n",
    "        date = (datetime.fromtimestamp(dt_txt)).strftime('%d-%b-%Y %H:%M:%S')\n",
    "        desc = weather['list'][i]['weather'][0]['description']\n",
    "        temp_min = weather['list'][i]['main']['temp_min']\n",
    "        temp_max = weather['list'][i]['main']['temp_max']\n",
    "        final_str = 'Date: %s \\nConditions: %s \\nMin.Temperature(Celsius): %s\\nMax.Temperature(Celsius): %s' %(date, desc, temp_min, temp_max)\n",
    "        return(final_str)\n",
    "\n",
    "def get_weather(city):\n",
    "    api_key = 'a4aa5e3d83ffefaba8c00284de6ef7c3'\n",
    "    url = 'https://api.openweathermap.org/data/2.5/forecast'\n",
    "    params = {'APPID': api_key, 'q': city, 'units': 'metric'}\n",
    "    response = requests.get(url, params = params)\n",
    "    weather = response.json()\n",
    "    \n",
    "def format_response(weather):\n",
    "    seven_day = []\n",
    "    for i in range(10):\n",
    "        seven_day.append(final_str)\n",
    "    return seven_day\n",
    "    \n",
    "    label['text'] = format_response(weather)\n",
    "root = tk.Tk()\n",
    "\n",
    "frame = tk.Frame(root, bg = '#b1cfff', bd = 5)\n",
    "frame.place(relx = 0.5, rely = 0.15, relwidth = 0.80, relheight = 0.05, anchor = 'n') \n",
    "\n",
    "entry = tk.Entry(frame, bg='#fce300', font = 40)\n",
    "entry.place(relx = 0.0, rely = 0, relwidth = 0.75, relheight = 1)\n",
    "\n",
    "button = tk.Button(frame, text = \"SEARCH\", font = 40, bg = 'black', fg = 'yellow', command = lambda: get_weather(entry.get()))\n",
    "button.place(relx = 0.758, rely = 0, relwidth = 0.24, relheight = 1)\n",
    "\n",
    "lower_frame = tk.Frame(root, bg = '#b1cfff', bd = 5)\n",
    "lower_frame.place(relx = 0.5, rely = 0.25, relwidth = 0.80, relheight = 0.6, anchor = 'n')\n",
    "\n",
    "label = tk.Label(lower_frame, font = ('courier new',10), bg = '#fce300', anchor = 'nw', justify = 'left')\n",
    "label.place(relwidth = 1, relheight = 1)\n",
    "label['text'] = '\\n'.join(format_response(weather))\n",
    "\n",
    "root.mainloop()"
   ]
  }
 ],
 "metadata": {
  "kernelspec": {
   "display_name": "Python 3 (ipykernel)",
   "language": "python",
   "name": "python3"
  },
  "language_info": {
   "codemirror_mode": {
    "name": "ipython",
    "version": 3
   },
   "file_extension": ".py",
   "mimetype": "text/x-python",
   "name": "python",
   "nbconvert_exporter": "python",
   "pygments_lexer": "ipython3",
   "version": "3.9.7"
  }
 },
 "nbformat": 4,
 "nbformat_minor": 5
}
