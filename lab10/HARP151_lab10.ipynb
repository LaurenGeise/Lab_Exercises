{
 "cells": [
  {
   "cell_type": "markdown",
   "id": "2dddb3cc",
   "metadata": {},
   "source": [
    "## GUI 1"
   ]
  },
  {
   "cell_type": "code",
   "execution_count": null,
   "id": "9a0733ef",
   "metadata": {},
   "outputs": [],
   "source": [
    "GUI #1 (5pts)\n",
    "Using the quotes API, build a GUI that provides a drop-down menu of people randomly chosen from the API\n",
    "I want a user to be able to pick from that list and receive a quote that corresponds to that person \n",
    "Ideally, I want to be able to reset that menu & allow people to choose from a new list \n",
    "GUI #2 (5pts)\n",
    "Go back to the weather API we used a few weeks ago and build a GUI that displays the 7 day forecast. Model it off of the weather forecaster you typically use (like an app or weather.com) \n",
    "Try using one widget we haven’t yet used in class – identify it with a comment"
   ]
  },
  {
   "cell_type": "code",
   "execution_count": 23,
   "id": "bfa1f200",
   "metadata": {},
   "outputs": [
    {
     "ename": "SyntaxError",
     "evalue": "positional argument follows keyword argument (Temp/ipykernel_4332/2993306380.py, line 32)",
     "output_type": "error",
     "traceback": [
      "\u001b[1;36m  File \u001b[1;32m\"C:\\Users\\laure\\AppData\\Local\\Temp/ipykernel_4332/2993306380.py\"\u001b[1;36m, line \u001b[1;32m32\u001b[0m\n\u001b[1;33m    label = Label(root, text=quotes, variable, value)\u001b[0m\n\u001b[1;37m                                                    ^\u001b[0m\n\u001b[1;31mSyntaxError\u001b[0m\u001b[1;31m:\u001b[0m positional argument follows keyword argument\n"
     ]
    }
   ],
   "source": [
    "from tkinter import*\n",
    "\n",
    "root = Tk()\n",
    "root.title(\"Quotes by Person\")\n",
    "root.geometry\n",
    "\n",
    "person = [\"Albert Einstein\", \"The Buddha\"]\n",
    "quotes = [\"Before God we are all equally wise - and equally foolish.\",\"One should train in deeds of merit—generosity, a balanced life, developing a loving mind—that yield long-lasting happiness.\"]\n",
    "\n",
    "def chosen_option():\n",
    "    color = value.get()\n",
    "    result_label = Label(root, text=f\"You've chosen {color}\")\n",
    "    root.configure(background=color)\n",
    "    result_label.pack()\n",
    "    \n",
    "def get_person():\n",
    "    text_box.delete(0.0, END)\n",
    "    r = requests.get(\"https://api.quotable.io/random\")\n",
    "    data = r.json()\n",
    "    quote = data[\"author\"]\n",
    "    dropdown.insert(END, quote)\n",
    "\n",
    "intro_label = Label(root, text=\"Here is an inspirational quote for you.\")\n",
    "\n",
    "value = StringVar()\n",
    "value.set(\"Select a person\")\n",
    "\n",
    "def clicked(value): \n",
    "    mylabel = Label(root, text=value)\n",
    "    mylabel.pack()\n",
    "    \n",
    "label = Label(root, text=quotes, variable, value)\n",
    "\n",
    "dropdown = OptionMenu(root, value, *person)\n",
    "choose_button = Button(root, text=\"Click to choose\", command=selection)\n",
    "    \n",
    "dropdown.pack()\n",
    "choose_button.pack()\n",
    "\n",
    "root.mainloop()"
   ]
  },
  {
   "cell_type": "markdown",
   "id": "2843f017",
   "metadata": {},
   "source": [
    "## GUI 2"
   ]
  },
  {
   "cell_type": "code",
   "execution_count": null,
   "id": "657dfeda",
   "metadata": {},
   "outputs": [],
   "source": [
    "# I greatly struggled with the first GUI and got so focused on it that I didn't have enough time to complete this part of the assignment\n",
    "# I intend to submit this section late, considering the penalties involved for late work. \n"
   ]
  }
 ],
 "metadata": {
  "kernelspec": {
   "display_name": "Python 3 (ipykernel)",
   "language": "python",
   "name": "python3"
  },
  "language_info": {
   "codemirror_mode": {
    "name": "ipython",
    "version": 3
   },
   "file_extension": ".py",
   "mimetype": "text/x-python",
   "name": "python",
   "nbconvert_exporter": "python",
   "pygments_lexer": "ipython3",
   "version": "3.9.7"
  }
 },
 "nbformat": 4,
 "nbformat_minor": 5
}
