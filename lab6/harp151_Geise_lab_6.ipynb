{
 "cells": [
  {
   "cell_type": "code",
   "execution_count": 1,
   "id": "c4620cfa",
   "metadata": {},
   "outputs": [],
   "source": [
    "from selenium import webdriver\n",
    "from selenium.webdriver.chrome.service import Service\n",
    "from selenium.webdriver.common.keys import Keys\n",
    "from selenium.webdriver.common.by import By\n",
    "from selenium.webdriver.common.action_chains import ActionChains\n",
    "from selenium.webdriver.support.ui import WebDriverWait\n",
    "from selenium.webdriver.support import expected_conditions as EC"
   ]
  },
  {
   "cell_type": "code",
   "execution_count": 17,
   "id": "ccab770c",
   "metadata": {},
   "outputs": [
    {
     "ename": "SyntaxError",
     "evalue": "invalid syntax (Temp/ipykernel_16024/1024695802.py, line 31)",
     "output_type": "error",
     "traceback": [
      "\u001b[1;36m  File \u001b[1;32m\"C:\\Users\\laure\\AppData\\Local\\Temp/ipykernel_16024/1024695802.py\"\u001b[1;36m, line \u001b[1;32m31\u001b[0m\n\u001b[1;33m    print(rows)\u001b[0m\n\u001b[1;37m    ^\u001b[0m\n\u001b[1;31mSyntaxError\u001b[0m\u001b[1;31m:\u001b[0m invalid syntax\n"
     ]
    }
   ],
   "source": [
    "csv_file = open(\"Binghamton_scrape.csv\", \"w\", newline=\"\", encoding=\"utf-8\")\n",
    "csv_writer = csv.writer(csv_file) \n",
    "csv_writer.writerow([\"Job\"])\n",
    "\n",
    "PATH = Service(\"C:\\Program Files (x86\\chromedriver.exe)\")\n",
    "driver = webdriver.Chrome(service=PATH)\n",
    "\n",
    "practice_site = \"https://www.binghamton-ny.gov/home\"\n",
    "driver.get(practice_site)\n",
    "\n",
    "government = driver.find_element(By.XPATH, \"//*[@id='dropdownrootitem3']/a\")\n",
    "department = driver.find_element(By.XPATH, \"//*[@id='dropdownrootitem3']/div/div/ul[1]/li/a\")\n",
    "\n",
    "actions = ActionChains(driver)\n",
    "actions.move_to_element(government)\n",
    "actions.click(government)\n",
    "actions.click(department)\n",
    "actions.perform()\n",
    "\n",
    "try:\n",
    "    main = WebDriverWait(driver, 5).until(\n",
    "    EC.presence_of_element_located((By.XPATH, \"//*[@id='widget_4_33_127']/ul/li[16]/a\")))\n",
    "    main.click()\n",
    "    \n",
    "    sub = WebDriverWait(driver, 10).until(\n",
    "    EC.presence_of_element_located((By.XPATH, \"//*[@id='leftNav_1038_0_145']/ul/li/ul/li[14]/ul/li/a\")))\n",
    "    sub.click()\n",
    "    \n",
    "    # this is as far as I was able to get with scraping the table\n",
    "    # i keep getting syntax errors for the contents of the xpath in quotes and I have tried -\n",
    "    # everything that I can think of to fix it\n",
    "    \n",
    "    for i in driver.find_elements(By.CLASS_NAME, \"jobs_widget content_area clearfix\"):\n",
    "        rows = 1+len(driver.find_elements(By.XPATH, \"//*[@id='ColumnUserControl4']/div[2]/table/tbody\")\n",
    "                     print(rows)\n",
    "                     print(\"JOB\")\n",
    "            for r in range(2, rows+1):\n",
    "                     value = driver.find_element_by_xpath(\"///*[@id='ColumnUserControl4']/div[2]/table/tbody/[\"+str(r)+\"]\").text\n",
    "        print(value, end='       ')\n",
    "        print()    \n",
    "        csv_writer.writerow([job])\n",
    "        \n",
    "finally:\n",
    "        driver.quit()"
   ]
  }
 ],
 "metadata": {
  "kernelspec": {
   "display_name": "Python 3 (ipykernel)",
   "language": "python",
   "name": "python3"
  },
  "language_info": {
   "codemirror_mode": {
    "name": "ipython",
    "version": 3
   },
   "file_extension": ".py",
   "mimetype": "text/x-python",
   "name": "python",
   "nbconvert_exporter": "python",
   "pygments_lexer": "ipython3",
   "version": "3.9.7"
  }
 },
 "nbformat": 4,
 "nbformat_minor": 5
}
