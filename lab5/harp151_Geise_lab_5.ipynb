{
 "cells": [
  {
   "cell_type": "markdown",
   "id": "d1879751",
   "metadata": {},
   "source": [
    "## 3rd Selenium Tutorial"
   ]
  },
  {
   "cell_type": "code",
   "execution_count": 1,
   "id": "f1cc9e59",
   "metadata": {},
   "outputs": [
    {
     "name": "stdout",
     "output_type": "stream",
     "text": [
      "Requirement already satisfied: selenium in c:\\users\\laure\\anaconda3\\lib\\site-packages (4.8.2)\n",
      "Requirement already satisfied: trio~=0.17 in c:\\users\\laure\\anaconda3\\lib\\site-packages (from selenium) (0.22.0)\n",
      "Requirement already satisfied: certifi>=2021.10.8 in c:\\users\\laure\\anaconda3\\lib\\site-packages (from selenium) (2021.10.8)\n",
      "Requirement already satisfied: urllib3[socks]~=1.26 in c:\\users\\laure\\anaconda3\\lib\\site-packages (from selenium) (1.26.7)\n",
      "Requirement already satisfied: trio-websocket~=0.9 in c:\\users\\laure\\anaconda3\\lib\\site-packages (from selenium) (0.9.2)\n",
      "Requirement already satisfied: idna in c:\\users\\laure\\anaconda3\\lib\\site-packages (from trio~=0.17->selenium) (3.2)\n",
      "Requirement already satisfied: async-generator>=1.9 in c:\\users\\laure\\anaconda3\\lib\\site-packages (from trio~=0.17->selenium) (1.10)\n",
      "Requirement already satisfied: cffi>=1.14 in c:\\users\\laure\\anaconda3\\lib\\site-packages (from trio~=0.17->selenium) (1.14.6)\n",
      "Requirement already satisfied: sniffio in c:\\users\\laure\\anaconda3\\lib\\site-packages (from trio~=0.17->selenium) (1.2.0)\n",
      "Requirement already satisfied: attrs>=19.2.0 in c:\\users\\laure\\anaconda3\\lib\\site-packages (from trio~=0.17->selenium) (21.2.0)\n",
      "Requirement already satisfied: exceptiongroup>=1.0.0rc9 in c:\\users\\laure\\anaconda3\\lib\\site-packages (from trio~=0.17->selenium) (1.1.0)\n",
      "Requirement already satisfied: outcome in c:\\users\\laure\\anaconda3\\lib\\site-packages (from trio~=0.17->selenium) (1.2.0)\n",
      "Requirement already satisfied: sortedcontainers in c:\\users\\laure\\anaconda3\\lib\\site-packages (from trio~=0.17->selenium) (2.4.0)\n",
      "Requirement already satisfied: pycparser in c:\\users\\laure\\anaconda3\\lib\\site-packages (from cffi>=1.14->trio~=0.17->selenium) (2.20)\n",
      "Requirement already satisfied: wsproto>=0.14 in c:\\users\\laure\\anaconda3\\lib\\site-packages (from trio-websocket~=0.9->selenium) (1.2.0)\n",
      "Requirement already satisfied: PySocks!=1.5.7,<2.0,>=1.5.6 in c:\\users\\laure\\anaconda3\\lib\\site-packages (from urllib3[socks]~=1.26->selenium) (1.7.1)\n",
      "Requirement already satisfied: h11<1,>=0.9.0 in c:\\users\\laure\\anaconda3\\lib\\site-packages (from wsproto>=0.14->trio-websocket~=0.9->selenium) (0.14.0)\n",
      "Note: you may need to restart the kernel to use updated packages.\n"
     ]
    }
   ],
   "source": [
    "pip install selenium"
   ]
  },
  {
   "cell_type": "code",
   "execution_count": 1,
   "id": "836528b3",
   "metadata": {},
   "outputs": [],
   "source": [
    "from selenium import webdriver\n",
    "from selenium.webdriver.chrome.service import Service\n",
    "from selenium.webdriver.common.keys import Keys\n",
    "from selenium.webdriver.common.by import By\n",
    "from selenium.webdriver.support.ui import WebDriverWait\n",
    "from selenium.webdriver.support import expected_conditions as EC\n",
    "import time # instructs program to pause after each step"
   ]
  },
  {
   "cell_type": "code",
   "execution_count": 32,
   "id": "86733a4c",
   "metadata": {},
   "outputs": [],
   "source": [
    "PATH = Service(\"C:\\Program Files (x86\\chromedriver.exe)\") # accessing the driver for the specific device type\n",
    "driver = webdriver.Chrome(service=PATH)\n",
    "\n",
    "practice_site = \"https://techwithtim.net\" # identifying the website to be explored and storing in a variable\n",
    "driver.get(practice_site) # access the website\n",
    "\n",
    "link = driver.find_element(By.LINK_TEXT, \"Python Programming\")\n",
    "link.click() #locating and clicking on the desired link on the webpage\n",
    "\n",
    "try:\n",
    "    element = WebDriverWait(driver, 10).until( #delays program by 10 seconds\n",
    "    EC.presence_of_element_located((By.LINK_TEXT, \"Beginner Python Tutorials\")) # locating a specific text on the page\n",
    "    )\n",
    "    element.click() # click on that text\n",
    "    \n",
    "    element = WebDriverWait(driver, 5).until(\n",
    "    EC.presence_of_element_located((By.ID, \"sow-button-19310003\")) #identifying a button element\n",
    "    )\n",
    "    element.click() #clicking to open button element\n",
    "    \n",
    "    driver.back() # backing up to previous page\n",
    "    driver.back()\n",
    "    driver.back()\n",
    "    driver.forward() # moving forward to next page\n",
    "    driver.forward()\n",
    "\n",
    "    \n",
    "except:\n",
    "    driver.quit()\n",
    "    \n"
   ]
  },
  {
   "cell_type": "markdown",
   "id": "2aad142e",
   "metadata": {},
   "source": [
    "## Scraping another website "
   ]
  },
  {
   "cell_type": "code",
   "execution_count": null,
   "id": "0ca2df08",
   "metadata": {},
   "outputs": [],
   "source": [
    "csv_file = open(\"hoop_scrape.csv\", \"w\", newline=\"\", encoding=\"utf-8\")\n",
    "csv_writer = csv.writer(csv_file) \n",
    "csv_writer.writerow([\"player\",\"salary\"])"
   ]
  },
  {
   "cell_type": "code",
   "execution_count": 5,
   "id": "afefb0f3",
   "metadata": {},
   "outputs": [],
   "source": [
    "PATH = Service(\"C:\\Program Files (x86\\chromedriver.exe)\") # accessing the driver for the specific device type\n",
    "driver = webdriver.Chrome(service=PATH)\n",
    "\n",
    "practice_site = \"https://hoopshype.com/\" # identifying the website to be explored and storing in a variable\n",
    "driver.get(practice_site) # accessing the website\n",
    "\n",
    "link = driver.find_element(By.LINK_TEXT, \"SALARIES\")\n",
    "link.click() #locating and clicking on the desired link on the webpage\n",
    "\n",
    "try:\n",
    "    element = WebDriverWait(driver, 5).until( #delays program by 10 seconds\n",
    "    EC.presence_of_element_located((By.LINK_TEXT, \"PLAYER SALARIES\")) # locating a specific text on the page\n",
    "    )\n",
    "    element.click() # click on the text\n",
    "    \n",
    "    name = driver.find_elements(By.CLASS_NAME, \"rank\") #locates article tag\n",
    "    \n",
    "    for i in name:\n",
    "        player = i.find_element(By.CLASS_NAME, \"name\")\n",
    "        print(player.text)\n",
    "        \n",
    "        salary = i.find_element(By.CLASS_NAME, \"hh-salaries-sorted\")\n",
    "        print(salary.text)\n",
    "        \n",
    "        csv_writer.writerow([player,salary])\n",
    "    \n",
    "except:\n",
    "    driver.quit()\n",
    "    \n",
    "csv_file.close()"
   ]
  },
  {
   "cell_type": "code",
   "execution_count": null,
   "id": "7f2b6374",
   "metadata": {},
   "outputs": [],
   "source": []
  }
 ],
 "metadata": {
  "kernelspec": {
   "display_name": "Python 3 (ipykernel)",
   "language": "python",
   "name": "python3"
  },
  "language_info": {
   "codemirror_mode": {
    "name": "ipython",
    "version": 3
   },
   "file_extension": ".py",
   "mimetype": "text/x-python",
   "name": "python",
   "nbconvert_exporter": "python",
   "pygments_lexer": "ipython3",
   "version": "3.9.7"
  }
 },
 "nbformat": 4,
 "nbformat_minor": 5
}
